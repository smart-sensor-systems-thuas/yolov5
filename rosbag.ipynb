{
 "cells": [
  {
   "cell_type": "code",
   "execution_count": null,
   "metadata": {},
   "outputs": [],
   "source": [
    "import roslib\n",
    "import rosbag\n",
    "import rospy\n",
    "import cv2\n",
    "import datetime\n",
    "from datetime import *\n",
    "from cv_bridge import CvBridge\n",
    "from cv_bridge import CvBridgeError\n",
    "\n",
    "rosbag_path = '/home/user/Documents/yolov5/data/rosbag/2022-10-21-13-59-30.bag'\n",
    "\n",
    "image_path = '/home/user/Documents/yolov5/data/rosbag/images/'\n",
    "image_Time_Stamps_File_path = image_path + 'timestamps.txt'\n",
    "pointcloud_path = '/home/user/Documents/yolov5/data/rosbag/velodyne_points/'\n",
    "pointcloud_Time_Stamps_File_path = pointcloud_path + 'timestamps.txt'\n",
    "\n",
    "image_topic_name = '/hikrobot_camera/image_raw'\n",
    "pointcloud_topic_name = '/velodyne_points'"
   ]
  },
  {
   "cell_type": "markdown",
   "metadata": {},
   "source": [
    "We define the functions here"
   ]
  },
  {
   "cell_type": "code",
   "execution_count": 1,
   "metadata": {},
   "outputs": [],
   "source": [
    "\n",
    "def ImageCreator():\n",
    "    bridge = CvBridge()\n",
    "    timeStampsFile = open(image_Time_Stamps_File_path, 'w')\n",
    "    with rosbag.Bag(rosbag_path, 'r') as bag:\n",
    "        num = 0\n",
    "        for topic, msg, t in bag.read_messages():\n",
    "            #for image topics\n",
    "            if topic == image_topic_name:\n",
    "                try:\n",
    "                    cv_image = bridge.imgmsg_to_cv2(msg, \"bgr8\")\n",
    "                except CvBridgeError as e:\n",
    "                    print(e)\n",
    "\n",
    "                pointcloud_name = \"%010d\" % num + \".png\"\n",
    "                timeStr = \"%.9f\" % msg.header.stamp.to_sec()\n",
    "                dateTimeStr = int(timeStr[0:10])\n",
    "                dotTimeStr = timeStr[11:]\n",
    "\n",
    "                localTime = datetime.fromtimestamp(dateTimeStr)\n",
    "                localTimeStr = str(localTime)\n",
    "                timeStamps = localTimeStr + '.' + dotTimeStr\n",
    "\n",
    "                timeStampsFile.write(timeStamps)\n",
    "                timeStampsFile.write('\\n')\n",
    "                num += 1\n",
    "\n",
    "            #for point cloud topics\n",
    "            if topic == pointcloud_topic_name:\n",
    "                PointCloud = msg.data\n",
    "                pointcloud_name = \"%010d\" % num + \".bin\"\n",
    "                PointCloudFile = open(pointcloud_path + pointcloud_name, 'wb')\n",
    "                PointCloudFile.write(PointCloud)\n",
    "                PointCloudFile.close()\n",
    "\n",
    "                timeStr = \"%.9f\" % msg.header.stamp.to_sec()\n",
    "                dateTimeStr = int(timeStr[0:10])\n",
    "                dotTimeStr = timeStr[11:]\n",
    "\n",
    "                localTimeStr = datetime.fromtimestamp(dateTimeStr)\n",
    "                localTimeStr = str(localTimeStr)\n",
    "                timeStamps = localTimeStr + '.' + dotTimeStr\n",
    "\n",
    "                timeStampsFile.write(timeStamps)\n",
    "                timeStampsFile.write('\\n')\n",
    "                num += 1\n",
    "\n",
    "\n",
    "\n",
    "def PointcloudCreator():\n",
    "    timeStampsFile = open(pointcloud_Time_Stamps_File_path, 'w')\n",
    "    with rosbag.Bag(rosbag_path, 'r') as bag:\n",
    "        num = 0\n",
    "        for topic, msg, t in bag.read_messages():\n",
    "            if topic == pointcloud_topic_name:\n",
    "                PointCloud = msg.data\n",
    "                pointcloud_name = \"%010d\" % num + \".bin\"\n",
    "                PointCloudFile = open(pointcloud_path + pointcloud_name, 'wb')\n",
    "                PointCloudFile.write(PointCloud)\n",
    "                PointCloudFile.close()\n",
    "\n",
    "                timeStr = \"%.9f\" % msg.header.stamp.to_sec()\n",
    "                dateTimeStr = int(timeStr[0:10])\n",
    "                dotTimeStr = timeStr[11:]\n",
    "\n",
    "                localTimeStr = datetime.fromtimestamp(dateTimeStr)\n",
    "                localTimeStr = str(localTimeStr)\n",
    "                timeStamps = localTimeStr + '.' + dotTimeStr\n",
    "\n",
    "                timeStampsFile.write(timeStamps)\n",
    "                timeStampsFile.write('\\n')\n",
    "                num += 1\n",
    "\n",
    "\n"
   ]
  },
  {
   "cell_type": "code",
   "execution_count": null,
   "metadata": {},
   "outputs": [],
   "source": [
    "if __name__ == '__main__':\n",
    "    image_creator = ImageCreator()\n",
    "    pointcloud_creator = PointcloudCreator()"
   ]
  }
 ],
 "metadata": {
  "kernelspec": {
   "display_name": "Python 3.9.13 ('rcnn')",
   "language": "python",
   "name": "python3"
  },
  "language_info": {
   "codemirror_mode": {
    "name": "ipython",
    "version": 3
   },
   "file_extension": ".py",
   "mimetype": "text/x-python",
   "name": "python",
   "nbconvert_exporter": "python",
   "pygments_lexer": "ipython3",
   "version": "3.9.13"
  },
  "orig_nbformat": 4,
  "vscode": {
   "interpreter": {
    "hash": "eb45b1cb5a06a804f0e1ae19ee7623478c4f3b1e2495ba55e3e96214bf1759e3"
   }
  }
 },
 "nbformat": 4,
 "nbformat_minor": 2
}
