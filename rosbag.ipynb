{
 "cells": [
  {
   "cell_type": "code",
   "execution_count": null,
   "metadata": {},
   "outputs": [],
   "source": [
    "import roslib\n",
    "import rosbag\n",
    "import rospy\n",
    "import cv2\n",
    "import datetime\n",
    "import numpy as np\n",
    "import ros_numpy\n",
    "import os\n",
    "from sensor_msgs.msg import PointCloud2, PointField, Image\n",
    "from datetime import *\n",
    "from cv_bridge import CvBridge\n",
    "from cv_bridge import CvBridgeError\n",
    "\n"
   ]
  },
  {
   "cell_type": "code",
   "execution_count": null,
   "metadata": {},
   "outputs": [],
   "source": [
    "rosbag_path = '/home/user/catkin_ws/yolov5/data/rosbag/'\n",
    "rosbag_file = os.path.join(rosbag_path, '2022-10-21-13-59-30.bag')\n",
    "\n",
    "image_path = os.path.join(rosbag_path, 'imgages')\n",
    "image_Time_Stamps_File_path = os.path.join(image_path, 'timestamps.txt')\n",
    "pointcloud_path =  os.path.join(rosbag_path, 'velodyne_points')\n",
    "pointcloud_Time_Stamps_File_path = os.path.join(pointcloud_path, 'timestamps.txt')\n",
    "\n",
    "image_topic_name = '/hikrobot_camera/image_raw'\n",
    "pointcloud_topic_name = '/velodyne_points'\n",
    "\n",
    "\n",
    "def ImageCreator():\n",
    "    bridge = CvBridge()\n",
    "    timeStampsFile = open(image_Time_Stamps_File_path, 'w')\n",
    "    with rosbag.Bag(rosbag_file, 'r') as bag:\n",
    "        num = 0\n",
    "        for topic, msg, t in bag.read_messages():\n",
    "            if topic == image_topic_name:\n",
    "                try:\n",
    "                    cv_image = bridge.imgmsg_to_cv2(msg, \"bgr8\")\n",
    "                except CvBridgeError as e:\n",
    "                    print(e)\n",
    "\n",
    "                pointcloud_name = \"%010d\" % num + \".png\"\n",
    "                cv2.imwrite(image_path + pointcloud_name, cv_image)\n",
    "\n",
    "                timeStr = \"%.9f\" % msg.header.stamp.to_sec()\n",
    "                dateTimeStr = int(timeStr[0:10])\n",
    "                dotTimeStr = timeStr[11:]\n",
    "\n",
    "                localTime = datetime.fromtimestamp(dateTimeStr)\n",
    "                localTimeStr = str(localTime)\n",
    "                timeStamps = localTimeStr + '.' + dotTimeStr\n",
    "\n",
    "                timeStampsFile.write(timeStamps)\n",
    "                timeStampsFile.write('\\n')\n",
    "                num += 1\n",
    "\n",
    "\n",
    "def PointcloudCreator():\n",
    "    timeStampsFile = open(pointcloud_Time_Stamps_File_path, 'w')\n",
    "    with rosbag.Bag(rosbag_file, 'r') as bag:\n",
    "        num = 0\n",
    "        for topic, msg, t in bag.read_messages():\n",
    "            if topic == pointcloud_topic_name:\n",
    "                PointCloud = msg.data\n",
    "                pointcloud_name = \"%010d\" % num\n",
    "                PointCloudFile = open(os.path.join(pointcloud_path, pointcloud_name), 'wb')\n",
    "\n",
    "                xyz_array = ros_numpy.point_cloud2.pointcloud2_to_xyz_array(msg)\n",
    "                val = np.save(PointCloudFile, xyz_array)\n",
    "                PointCloudFile.close()\n",
    "\n",
    "                timeStr = \"%.9f\" % msg.header.stamp.to_sec()\n",
    "                dateTimeStr = int(timeStr[0:10])\n",
    "                dotTimeStr = timeStr[11:]\n",
    "\n",
    "                localTimeStr = datetime.fromtimestamp(dateTimeStr)\n",
    "                localTimeStr = str(localTimeStr)\n",
    "                timeStamps = localTimeStr + '.' + dotTimeStr\n",
    "\n",
    "                timeStampsFile.write(timeStamps)\n",
    "                timeStampsFile.write('\\n')\n",
    "                num += 1\n",
    "\n",
    "def eval_timestamps():\n",
    "    #open two files and compare timestamps\n",
    "    cam_stamps = open(os.path.join(image_path, 'timestamps.txt'), 'r')\n",
    "    ldr_stamps = open(os.path.join(pointcloud_path, 'timestamps.txt'), 'r')"
   ]
  },
  {
   "cell_type": "code",
   "execution_count": null,
   "metadata": {},
   "outputs": [],
   "source": [
    "image_creator = ImageCreator()"
   ]
  },
  {
   "cell_type": "code",
   "execution_count": null,
   "metadata": {},
   "outputs": [],
   "source": [
    "pc_creator =PointcloudCreator()"
   ]
  },
  {
   "cell_type": "code",
   "execution_count": null,
   "metadata": {},
   "outputs": [],
   "source": []
  }
 ],
 "metadata": {
  "kernelspec": {
   "display_name": "Python 3.9.7 ('base')",
   "language": "python",
   "name": "python3"
  },
  "language_info": {
   "codemirror_mode": {
    "name": "ipython",
    "version": 3
   },
   "file_extension": ".py",
   "mimetype": "text/x-python",
   "name": "python",
   "nbconvert_exporter": "python",
   "pygments_lexer": "ipython3",
   "version": "3.9.7"
  },
  "orig_nbformat": 4,
  "vscode": {
   "interpreter": {
    "hash": "1448b48b023bcc9c3d4a79e814720a10ca6d4244f75e0f7ce4af58f96ba2b7d3"
   }
  }
 },
 "nbformat": 4,
 "nbformat_minor": 2
}
